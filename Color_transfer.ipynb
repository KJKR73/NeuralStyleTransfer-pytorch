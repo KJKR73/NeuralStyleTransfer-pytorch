{
 "cells": [
  {
   "cell_type": "code",
   "execution_count": 14,
   "metadata": {},
   "outputs": [],
   "source": [
    "import numpy as np\n",
    "import cv2\n",
    "import matplotlib.pyplot as plt"
   ]
  },
  {
   "cell_type": "code",
   "execution_count": 15,
   "metadata": {},
   "outputs": [],
   "source": [
    "def get_stats(img):\n",
    "    (L, A, B) = cv2.split(img)\n",
    "    (L_mean, L_std) = (L.mean(), L.std())\n",
    "    (A_mean, A_std) = (A.mean(), A.std())\n",
    "    (B_mean, B_std) = (B.mean(), B.std())\n",
    "    \n",
    "    return (L_mean, L_std, A_mean, A_std, B_mean, B_std)"
   ]
  },
  {
   "cell_type": "code",
   "execution_count": 7,
   "metadata": {},
   "outputs": [],
   "source": [
    "def color_transfer(source_path, target_path):\n",
    "    source = cv2.imread(source_path)\n",
    "    target = cv2.imread(target_path)\n",
    "    source = cv2.cvtColor(source, cv2.COLOR_BGR2LAB).astype(\"float32\")\n",
    "    target = cv2.cvtColor(target, cv2.COLOR_BGR2LAB).astype(\"float32\")\n",
    "    L_mean_src, L_std_src, A_mean_src, A_std_src, B_mean_src, B_std_src = get_stats(source)\n",
    "    L_mean_tar, L_std_tar, A_mean_tar, A_std_tar, B_mean_tar, B_std_tar = get_stats(target)\n",
    "    (L, A, B) = cv2.split(target)\n",
    "    L -= L_mean_tar\n",
    "    A -= A_mean_tar\n",
    "    B -= B_mean_tar\n",
    "    L = (L_std_tar / L_std_src) * L\n",
    "    A = (A_std_tar / A_std_src) * A\n",
    "    B = (B_std_tar / B_std_src) * B\n",
    "    L += L_mean_src\n",
    "    A += A_mean_src\n",
    "    B += B_mean_src\n",
    "    L = np.clip(L, 0,255)\n",
    "    A = np.clip(A, 0,255)\n",
    "    B = np.clip(B, 0,255)\n",
    "    transfer = cv2.merge([L, A, B])\n",
    "    transfer = cv2.cvtColor(transfer.astype(\"uint8\"), cv2.COLOR_LAB2BGR)\n",
    "    return transfer"
   ]
  },
  {
   "cell_type": "code",
   "execution_count": 17,
   "metadata": {},
   "outputs": [
    {
     "data": {
      "text/plain": [
       "True"
      ]
     },
     "execution_count": 17,
     "metadata": {},
     "output_type": "execute_result"
    }
   ],
   "source": [
    "ans = color_transfer(\"chicago.jpg\", \"style2.jpg\")\n",
    "cv2.imwrite(\"lol.jpg\", ans)"
   ]
  },
  {
   "cell_type": "code",
   "execution_count": null,
   "metadata": {},
   "outputs": [],
   "source": []
  }
 ],
 "metadata": {
  "kernelspec": {
   "display_name": "Python 3",
   "language": "python",
   "name": "python3"
  },
  "language_info": {
   "codemirror_mode": {
    "name": "ipython",
    "version": 3
   },
   "file_extension": ".py",
   "mimetype": "text/x-python",
   "name": "python",
   "nbconvert_exporter": "python",
   "pygments_lexer": "ipython3",
   "version": "3.6.10"
  }
 },
 "nbformat": 4,
 "nbformat_minor": 4
}
